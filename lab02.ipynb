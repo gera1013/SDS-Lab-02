{
 "cells": [
  {
   "cell_type": "markdown",
   "metadata": {
    "id": "jpTqcd9p1egC"
   },
   "source": [
    "## Laboratorio 2\n",
    "### Detección de SPAM\n",
    "> #### Gerardo Méndez 18239, Luis Pedro Cuéllar 18220 "
   ]
  },
  {
   "cell_type": "code",
   "execution_count": 1,
   "metadata": {
    "colab": {
     "base_uri": "https://localhost:8080/"
    },
    "id": "NLJDfSwM11SW",
    "outputId": "c6725760-a590-47d8-f2e2-552aa9677d8c"
   },
   "outputs": [],
   "source": [
    "import pandas as pd\n",
    "import numpy as np\n",
    "import re\n",
    "\n",
    "%matplotlib inline"
   ]
  },
  {
   "cell_type": "code",
   "execution_count": 2,
   "metadata": {},
   "outputs": [],
   "source": [
    "csa_df = pd.read_csv('datasets/completeSpamAssassin.csv')\n",
    "ess_df = pd.read_csv('datasets/enronSpamSubset.csv')"
   ]
  }
 ],
 "metadata": {
  "colab": {
   "name": "lab01.ipynb",
   "provenance": []
  },
  "kernelspec": {
   "display_name": "Python 3 (ipykernel)",
   "language": "python",
   "name": "python3"
  },
  "language_info": {
   "codemirror_mode": {
    "name": "ipython",
    "version": 3
   },
   "file_extension": ".py",
   "mimetype": "text/x-python",
   "name": "python",
   "nbconvert_exporter": "python",
   "pygments_lexer": "ipython3",
   "version": "3.8.10"
  }
 },
 "nbformat": 4,
 "nbformat_minor": 4
}
